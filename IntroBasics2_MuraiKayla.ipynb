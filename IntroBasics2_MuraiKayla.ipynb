{
 "cells": [
  {
   "cell_type": "markdown",
   "metadata": {},
   "source": [
    "## Homework Assignment #2\n",
    "\n",
    "* Due on **Wednesday, Feb-03-2021**, before class (~10 AM)\n",
    "* Late submission is not accepted (because solutions will be posted in Moodle)\n",
    "* Please comment your code and upload your ipynb file using the following dropbox link: \n",
    "    - https://www.dropbox.com/request/xqGltxCVtWopqgoGLv8q"
   ]
  },
  {
   "cell_type": "markdown",
   "metadata": {},
   "source": [
    "### 1. Step through a Python dictionary (40%)\n",
    "*  **Create a dictionary** named **planets**, with the terrestrial-planet names as the keys and the corresponding planet mass (in kg) as the values (HINT: Terrestrial planets include Mercury, Venus, Earth and Mars)\n",
    "* **Expand the dictionary** by adding the outer planets to the dictionary (HINT: Jupiter, Saturn, Uranus, Neptune, Pluto)\n",
    "* But someone doesn't like Pluto to be in the planet dictionary, so write one line of code to **remove Pluto** from your dictionary \n",
    "* Write a **for** loop to step through all the planets in your dictionary, and print out the mass of each planet, using the following format: \"*The planet X has mass Y kg.*\", *X* is the name of a planet and *Y* is the mass of that planet\n",
    "* Now using the **for** loop you've written, calculate the *Schwarzschild radius* ($R_s$) of each planet using their mass, following the equation $R_s = \\frac{2GM}{c^2}$, where $M$ is the mass of the planet, $G = 6.67408 \\times 10^{-11} m^3/kg\\cdot s^2$ is the gravitational constant, and $c = 3\\times 10^8$ m/s is the speed of light.\n",
    "* Write a code to find the **maximum** *Schwarzschild radius* of solar system planets.  \n",
    "\n",
    "You can find infomation about solar planets here: https://nssdc.gsfc.nasa.gov/planetary/factsheet/. In case you're interested in the idea behind a Schwarzschild radius, check out this: https://youtu.be/Q7E-KA-MYjc"
   ]
  },
  {
   "cell_type": "code",
   "execution_count": 53,
   "metadata": {},
   "outputs": [
    {
     "name": "stdout",
     "output_type": "stream",
     "text": [
      "{'Mercury': 0.33, 'Venus': 4.87, 'Earth': 5.97, 'Mars': 0.642, 'Jupiter': 1898, 'Saturn': 568, 'Uranus': 86.8, 'Neptune': 102}\n",
      "List of keys in planeta: ['Mercury', 'Venus', 'Earth', 'Mars', 'Jupiter', 'Saturn', 'Uranus', 'Neptune']\n",
      "The planet Mercury has mass 0.33 10**24 kg\n",
      "The planet Venus has mass 4.87 10**24 kg\n",
      "The planet Earth has mass 5.97 10**24 kg\n",
      "The planet Mars has mass 0.642 10**24 kg\n",
      "The planet Jupiter has mass 1898 10**24 kg\n",
      "The planet Saturn has mass 568 10**24 kg\n",
      "The planet Uranus has mass 86.8 10**24 kg\n",
      "The planet Neptune has mass 102 10**24 kg\n",
      "The planet Neptune has a Rs of 1.5127914666666665e-25 m\n",
      "\n",
      "\n",
      "\n",
      "\n",
      "\n",
      "\n",
      "\n",
      "\n"
     ]
    }
   ],
   "source": [
    "### 1. Step through a Python dictionary\n",
    "\n",
    "# Will create dictionary named planets and added terrestrial planets \n",
    "# with their corresponding planet masses (in 10**24 kg)\n",
    "planeta={'Mercury':0.330,'Venus':4.87,'Earth':5.97,'Mars':0.642}\n",
    "\n",
    "# 2. Expanding the dictionary by adding the outer planets\n",
    "planeta['Jupiter']=1898 # add Jupiter to the dict\n",
    "planeta['Saturn']=568   # add Saturn to the dict\n",
    "planeta['Uranus']=86.8  # add Uranus to the dict\n",
    "planeta['Neptune']=102  # add Neptune to the dict\n",
    "planeta['Pluto']=0.0146 # add Pluto to the dict\n",
    "\n",
    "# 3. Eliminate Pluto, someone doesn't like it\n",
    "del planeta['Pluto'] # remove the key 'Pluto' from the dictionary\n",
    "print(planeta)       # the corresponding value is also removed\n",
    "                     # this will print the function\n",
    "\n",
    "# 4. Write a for loop through all the planets in your dictionary\n",
    "# print out the mass of each planet, using the following format:\n",
    "# \"The planet X has mass Y kg\", where x = planet name, y = mass\n",
    "\n",
    "planeta={'Mercury': 0.33, 'Venus': 4.87, 'Earth': 5.97, 'Mars': 0.642, 'Jupiter': 1898, 'Saturn': 568, 'Uranus': 86.8, 'Neptune': 102}\n",
    "\n",
    "print('List of keys in planeta:',list(planeta.keys()))\n",
    "for key in planeta.keys(): # assigned each element which each value\n",
    "    mass=planeta[key]      # assigned the mass to the appropriate key\n",
    "    planeta[key]=mass      # will print out the planets with respective mass by 10**24 kg\n",
    "    print('The planet', key, 'has mass',mass,'10**24 kg') # print variable, key\n",
    "    \n",
    "# 5. Now using the for loop you've written, \n",
    "# calculate the Schwarzschild radius (𝑅𝑠) of each planet using their mass, \n",
    "# following the equation 𝑅𝑠=2𝐺𝑀/𝑐2, \n",
    "# where 𝑀 is the mass of the planet, \n",
    "# 𝐺=6.67408×(10**−11) is the gravitational constant, \n",
    "# and 𝑐=3×108 m/s is the speed of light.\n",
    "    \n",
    "planeta={'Mercury': 0.33, 'Venus': 4.87, 'Earth': 5.97, 'Mars': 0.642, 'Jupiter': 1898, 'Saturn': 568, 'Uranus': 86.8, 'Neptune': 102}\n",
    "\n",
    "for key in planeta.keys():\n",
    "    mass=planeta[key]\n",
    "    planeta[key]=mass\n",
    "    M=mass\n",
    "    Gc=6.67408*(10**-11) # Gravitational constant\n",
    "    c=3*(10**8)         # speed of light (m/s)\n",
    "    Rs=2*G*M/c**2       # Sorry I could not figure out why it only gives me one value\n",
    "                        # I didn't have enough time to go through all the values :(\n",
    "          \n",
    "print('The planet',key, 'has a Rs of',Rs,'m')\n",
    "\n",
    "\n",
    "# 6. Write a code to find the maximum Schwarzschild radius of solar system planets. \n",
    "\n",
    "for key in planeta.keys():\n",
    "    max(planeta,key=planeta.get)\n",
    "    print()"
   ]
  },
  {
   "cell_type": "markdown",
   "metadata": {},
   "source": [
    "### 2. Program control (20%)\n",
    "\n",
    "* Write a Python program (use a **for** loop with **if** statements) that print all the numbers between 0 to 10 **except** 3 and 7\n",
    "* Write a Python program (use a **for** loop with **if** statements) that prints the type of each elements from the following list named **datalist**, **except** for booleans and integers:   \n",
    "**datalist** = [122 11.3 1+2j, True, 'electrons', (0,-1),[5,8],{\"class\":\"V\",\"grade\":\"A\"}]"
   ]
  },
  {
   "cell_type": "code",
   "execution_count": 104,
   "metadata": {},
   "outputs": [
    {
     "name": "stdout",
     "output_type": "stream",
     "text": [
      "124568910\n",
      "\n",
      "11.23\n",
      "(1+2j)\n",
      "True\n",
      "electrons\n",
      "(0, -1)\n",
      "[5, 8]\n",
      "{'class': 'V', 'grade': 'A'}\n"
     ]
    }
   ],
   "source": [
    "numbers=range(1,11)\n",
    "for x in numbers:\n",
    "    if (x==3 or x==7):        # used for loop for numbers between 0 and 10\n",
    "        continue              # used if to make 3 and 7 the exceptio\n",
    "    print(x,end='')           # will print out the list of numbers without 3 and 7\n",
    "print(\"\\n\")                   # makes a space for the next question \n",
    "                     \n",
    "# I defined the datalists with all the elements in this list\n",
    "datalist=[122,11.23,1+2j,'True','electrons',(0,-1),[5,8],{\"class\":\"V\",\"grade\":\"A\"}]\n",
    "for x in datalist:                       # this code will exclude booleans and integers          \n",
    "    if type(x)!=bool and type(x)!=int:\n",
    "        print(x)"
   ]
  },
  {
   "cell_type": "markdown",
   "metadata": {},
   "source": [
    "### 3. Functions  working with numbers (20%)\n",
    "\n",
    "* **Write a Python function** using the **for**-loop to sum all the numbers given in a list. \n",
    "* **Write a Python function** using the **while**-loop to multiply all the numbers given in a list. \n",
    "* Pass the sample list [7, -2, 1.5, 3.14] and print the results using a **main( )** function"
   ]
  },
  {
   "cell_type": "code",
   "execution_count": 6,
   "metadata": {},
   "outputs": [
    {
     "name": "stdout",
     "output_type": "stream",
     "text": [
      "9.64\n",
      "-65.94\n"
     ]
    }
   ],
   "source": [
    "\n",
    "def sum(numbers):\n",
    "    # this will sum up the numbers\n",
    "    total=0\n",
    "    for x in numbers:       # this is defined as the sum function\n",
    "        total +=x           # this is needed in the python main program\n",
    "    return total            # this wiill give me the total sum of the list of numbers\n",
    "\n",
    "def multiply(numbers):\n",
    "    # this will multiply the numbers one by one\n",
    "    result=1         \n",
    "    for x in numbers:       # this will give me the result for \n",
    "        result=result*x     # the numbers one at a time, as the consequential\n",
    "    return result           # number will be multiplied to the next number\n",
    "\n",
    "# all elements together in the main() function\n",
    "def main():\n",
    "\n",
    "    list1=[7,-2,1.5,3.14]   # this sample list is defined with these numbers\n",
    "\n",
    "    print(sum(list1))       # this will print out the sum function of main()\n",
    "    print(multiply(list1))  # this will print out the multiply function of main()\n",
    "\n",
    "main()"
   ]
  },
  {
   "cell_type": "markdown",
   "metadata": {},
   "source": [
    "### 4. Use the math module (20%)\n",
    "\n",
    "* import the **math** module\n",
    "* **Write a Python function** to calculate the third side of a triangle $c = \\sqrt{a^2 + b^2 -2ab\\cos(\\theta)}$, where $a$ and $b$ are the length of two known sides of a triangle, $\\theta$ is the angle contained between sides $a$ and $b$. (see https://en.wikipedia.org/wiki/Law_of_cosines for more details). Use the function name **law_of_cosines($a$, $b$, $\\theta$)**, which takes three input parameters $a$, $b$ and $\\theta$.\n",
    "* write a main( ) program to call the function   \n",
    "\n",
    "Note: you need to use the **sqrt( )** and the **cos( )** function from the **math** module"
   ]
  },
  {
   "cell_type": "code",
   "execution_count": 66,
   "metadata": {},
   "outputs": [
    {
     "ename": "SyntaxError",
     "evalue": "unexpected EOF while parsing (<ipython-input-66-fee77c1a170e>, line 9)",
     "output_type": "error",
     "traceback": [
      "\u001b[1;36m  File \u001b[1;32m\"<ipython-input-66-fee77c1a170e>\"\u001b[1;36m, line \u001b[1;32m9\u001b[0m\n\u001b[1;33m    print(mt.sqrt((a*a)+(b*b)-2*a*b*mt.cos(c*mt.pi/180))\u001b[0m\n\u001b[1;37m                                                        ^\u001b[0m\n\u001b[1;31mSyntaxError\u001b[0m\u001b[1;31m:\u001b[0m unexpected EOF while parsing\n"
     ]
    }
   ],
   "source": [
    "import math as mt   # imported the math module in the code\n",
    "\n",
    "# This function will calculate cos and the value of angle c, theta\n",
    "a=float(input(\"First side\"))\n",
    "b=float(input(\"Second side\"))\n",
    "c=float(input(\"Angle\"))\n",
    "print(\"\")\n",
    "    #this means the angle, theta, is the calculation of the cos of c\n",
    "print(mt.sqrt((a*a)+(b*b)-2*a*b*mt.cos(c*mt.pi/180))"
   ]
  },
  {
   "cell_type": "markdown",
   "metadata": {},
   "source": [
    "### [Extra credit] Find Perfect Numbers (20%)\n",
    "\n",
    "* **Write a Python function** to return the all divisors of an integer, output the divisors to a list.  For exmaple, the number 8 has four divisors: 1,2,4,8, you can store all the divisors to a list. (HINT: use the % operator to decide whether an integer is a divisor of a given number)\n",
    "* **Write another Python function** to return the sum of a given list of numbers\n",
    "* Then **Write a main() program** to print all the numbers within 1000 whose sum of divisors equal to the number itself\n",
    "* That's called a *perfect* number\n",
    "\n",
    "For example, the integer 6 has three divisors: [1, 2, 3], the sum of the divisors is 1 + 2 + 3 = 6, which makes 6 a perfect number! Find all the perfect numbers less than 1000"
   ]
  }
 ],
 "metadata": {
  "kernelspec": {
   "display_name": "Python 3 (ipykernel)",
   "language": "python",
   "name": "python3"
  },
  "language_info": {
   "codemirror_mode": {
    "name": "ipython",
    "version": 3
   },
   "file_extension": ".py",
   "mimetype": "text/x-python",
   "name": "python",
   "nbconvert_exporter": "python",
   "pygments_lexer": "ipython3",
   "version": "3.9.7"
  }
 },
 "nbformat": 4,
 "nbformat_minor": 2
}
