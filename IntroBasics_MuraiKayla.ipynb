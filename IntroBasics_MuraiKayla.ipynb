{
 "cells": [
  {
   "cell_type": "code",
   "execution_count": 1,
   "metadata": {},
   "outputs": [],
   "source": [
    " ## Homework Assignment #1\n",
    "\n",
    " ### 1. Make a new code cell, and create a list called planets, then:\n",
    "#\n",
    "# 1. append all the planets (including Pluto) to the list.\n",
    "# 2. find out the index # for planet “Venus” and “Neptune” using the .index() method for strings\n",
    "# 3. make a true copy of your planets list (give it a different name), which means that your copied list is independent of the original list.\n",
    "# 4. print the planet at index 3 in your planets list.\n",
    "# 5. set the planet at index 3 in your copied list to 'Krypton'\n",
    "# 6. print the planet at index 3 in both lists (planet and your copied list)\n",
    "# 7. remove Pluto from your copied list\n",
    "# 8. use the help function to find out what the built in function len() does (help(len)), and use it on the two lists (print out the results)\n",
    "# 9. find out the difference between the two lists planets and your copied list\"\n",
    "\n",
    "  \n",
    "### 2. Create a set from each of the three lists.\n",
    "\n",
    "# Make another code block that creates three lists using the range( ) function with series of numbers starting with 1, ending in 100 (inclusive) increasing by 2, 3 and 4, respectively, and then\n",
    "#  Use the **intersection** function to find the elements in common between the three sets.\""
   ]
  },
  {
   "cell_type": "code",
   "execution_count": 131,
   "metadata": {
    "scrolled": true
   },
   "outputs": [
    {
     "name": "stdout",
     "output_type": "stream",
     "text": [
      "Answer 1:\n",
      "['Mercury', 'Venus', 'Earth', 'Mars', 'Jupiter', 'Saturn', 'Uranus', 'Neptune', 'Pluto'] <class 'list'>\n"
     ]
    }
   ],
   "source": [
    "### 1. Made a new code cell, I will create a list called mylist ###\n",
    "                  \n",
    "# I appended all planets to the list\n",
    "mylist = []\n",
    "mylist.append(\"Mercury\")         # I appended Mercury to the list\n",
    "mylist.extend([\"Venus\",\"Earth\",\"Mars\",\"Jupiter\",\"Saturn\",\"Uranus\",\"Neptune\",\"Pluto\"]) \n",
    "                                 # I used the extend function\n",
    "\n",
    "print(\"Answer 1:\")\n",
    "print(mylist,type(mylist))          # This list will print all the planets as strings in mylist and its type"
   ]
  },
  {
   "cell_type": "code",
   "execution_count": 83,
   "metadata": {},
   "outputs": [
    {
     "name": "stdout",
     "output_type": "stream",
     "text": [
      "Answer 2:\n",
      "1\n",
      "7\n"
     ]
    }
   ],
   "source": [
    "### 2. Will find out the index number for planet \"Venus\" and \"Neptune\" using the .index() method for strings ###\n",
    "\n",
    "print(\"Answer 2:\")\n",
    "print(mylist.index(\"Venus\"))        # \"Venus\" should be #1\n",
    "print(mylist.index(\"Neptune\"))      # \"Neptune\" should be #7"
   ]
  },
  {
   "cell_type": "code",
   "execution_count": 85,
   "metadata": {},
   "outputs": [
    {
     "name": "stdout",
     "output_type": "stream",
     "text": [
      "Answer 3:\n",
      "['Mercury', 'Venus', 'Earth', 'Mars', 'Jupiter', 'Saturn', 'Uranus', 'Neptune', 'Pluto']\n",
      "['Mercury', 'Venus', 'Earth', 'Mars', 'Jupiter', 'Saturn', 'Uranus', 'Neptune', 'Pluto']\n"
     ]
    }
   ],
   "source": [
    "### 3. Will make a true/deep copy of the planets list so that the copied list is independent of the original ###\n",
    "\n",
    "import copy                         # found copy.deepcopy method that shows that if the original changes,\n",
    "print(\"Answer 3:\")                  # this independent copy will not be altered\n",
    "myplanets=copy.deepcopy(mylist)     \n",
    "print(mylist)                       # this print original list\n",
    "print(myplanets)                    # myplanets should be an independent copy of planets now"
   ]
  },
  {
   "cell_type": "code",
   "execution_count": 86,
   "metadata": {},
   "outputs": [
    {
     "name": "stdout",
     "output_type": "stream",
     "text": [
      "Answer 4:\n",
      "Mars\n"
     ]
    }
   ],
   "source": [
    "### 4. Print the planet at index 3 in myplanets list ###\n",
    "\n",
    "print(\"Answer 4:\")\n",
    "print(myplanets[3])                 # \"Mars\" should be the planet at index 3 on the deep copy list"
   ]
  },
  {
   "cell_type": "code",
   "execution_count": 87,
   "metadata": {},
   "outputs": [
    {
     "name": "stdout",
     "output_type": "stream",
     "text": [
      "Answer 5:\n",
      "['Mercury', 'Venus', 'Earth', 'Krypton', 'Jupiter', 'Saturn', 'Uranus', 'Neptune', 'Pluto']\n"
     ]
    }
   ],
   "source": [
    "### 5. Set the planet at index 3 in your copied list to 'Krypton' ###\n",
    "\n",
    "print(\"Answer 5:\")\n",
    "myplanets[3]=\"Krypton\"              # \"Mars\" should be replaced with \"Krypton\" now\n",
    "print(myplanets)"
   ]
  },
  {
   "cell_type": "code",
   "execution_count": 88,
   "metadata": {},
   "outputs": [
    {
     "name": "stdout",
     "output_type": "stream",
     "text": [
      "Answer 6:\n",
      "Mars\n",
      "Krypton\n"
     ]
    }
   ],
   "source": [
    "### 6. Print the planet at index 3 in both lists (planet and your copied list) ### \n",
    "\n",
    "print(\"Answer 6:\")\n",
    "print(mylist[3])                    # mylist will print \"Mars\"\n",
    "print(myplanets[3])                 # myplanets will print \"Krypton\""
   ]
  },
  {
   "cell_type": "code",
   "execution_count": 89,
   "metadata": {},
   "outputs": [
    {
     "name": "stdout",
     "output_type": "stream",
     "text": [
      "Answer 7:\n",
      "['Mercury', 'Venus', 'Earth', 'Krypton', 'Jupiter', 'Saturn', 'Uranus', 'Neptune']\n"
     ]
    }
   ],
   "source": [
    "### 7. remove Pluto from your copied list ###\n",
    "\n",
    "print(\"Answer 7:\")\n",
    "del myplanets[8]         # This will delete Pluto from the myplanets list \n",
    "print(myplanets)"
   ]
  },
  {
   "cell_type": "code",
   "execution_count": 95,
   "metadata": {},
   "outputs": [
    {
     "name": "stdout",
     "output_type": "stream",
     "text": [
      "Answer 8:\n",
      "Help on built-in function len in module builtins:\n",
      "\n",
      "len(obj, /)\n",
      "    Return the number of items in a container.\n",
      "\n",
      "9\n",
      "8\n"
     ]
    }
   ],
   "source": [
    "### 8. use the help function to find out what the built in function len() \n",
    "### does (help(len)), and use it on the two lists (print out the results)\n",
    "print(\"Answer 8:\")\n",
    "help(len)                # found out what this function does\n",
    "\n",
    "print(len(mylist))       # used len() function on mylist, should be 9 items because this is the original\n",
    "print(len(myplanets))    # used len() function on myplanets, should be 8 items because Pluto is deleted"
   ]
  },
  {
   "cell_type": "code",
   "execution_count": 138,
   "metadata": {},
   "outputs": [
    {
     "name": "stdout",
     "output_type": "stream",
     "text": [
      "Answer 9:\n",
      "1\n",
      "['Mars', 'Pluto'] ['Krypton']\n"
     ]
    }
   ],
   "source": [
    "# 9. find out the difference between the two lists planets and your copied list ###\n",
    "\n",
    "print(\"Answer 9:\")             \n",
    "print(len(mylist)-len(myplanets))     # The difference between the length of mylist and myplanets\n",
    "\n",
    "myset=set(mylist)                     # I changed the lists into sets so the sets can have a difference\n",
    "setplanets=set(myplanets) \n",
    "\n",
    "print(list(myset-setplanets),list(setplanets-myset))  # the differences between the two sets shows the missing planets      "
   ]
  },
  {
   "cell_type": "code",
   "execution_count": 139,
   "metadata": {},
   "outputs": [
    {
     "name": "stdout",
     "output_type": "stream",
     "text": [
      "{1, 3, 5, 7, 9, 11, 13, 15, 17, 19, 21, 23, 25, 27, 29, 31, 33, 35, 37, 39, 41, 43, 45, 47, 49, 51, 53, 55, 57, 59, 61, 63, 65, 67, 69, 71, 73, 75, 77, 79, 81, 83, 85, 87, 89, 91, 93, 95, 97, 99}\n",
      "{1, 4, 7, 10, 13, 16, 19, 22, 25, 28, 31, 34, 37, 40, 43, 46, 49, 52, 55, 58, 61, 64, 67, 70, 73, 76, 79, 82, 85, 88, 91, 94, 97}\n",
      "{1, 5, 9, 13, 17, 21, 25, 29, 33, 37, 41, 45, 49, 53, 57, 61, 65, 69, 73, 77, 81, 85, 89, 93, 97}\n",
      "Answer:\n",
      "{1, 97, 37, 73, 13, 49, 85, 25, 61}\n"
     ]
    }
   ],
   "source": [
    "### 2. Create a set from each of the three lists. ###\n",
    "\n",
    "# Make another code block that creates three lists using the range( ) function with \n",
    "# series of numbers starting with 1, ending in 100 (inclusive) increasing by 2, 3 and 4, respectively, and then\n",
    "# Use the **intersection** function to find the elements in common between the three sets.\"\n",
    "\n",
    "list1=list(range(1,100,2))          # series of numbers by intervals of 2\n",
    "list2=list(range(1,100,3))          # series of numbers by intervals of 3\n",
    "list3=list(range(1,100,4))          # series of numbers by intervals of 4\n",
    "s1=set(list1)                   # I renamed each list into sets named s1, s2, and s3\n",
    "s2=set(list2)\n",
    "s3=set(list3)\n",
    "print(s1)\n",
    "print(s2)\n",
    "print(s3)\n",
    "\n",
    "\n",
    "# print(s1.intersection(s2))    # I commented out these intersections because they are not needed to the \n",
    "# print(s2.intersection(s3))    # overall picture, but I kept them in because I wanted to show the thought \n",
    "# print(s1.intersection(s3))    # process to how I was using the intersection function\n",
    "print(\"Answer:\")\n",
    "print(s3.intersection(s1, s2))"
   ]
  }
 ],
 "metadata": {
  "kernelspec": {
   "display_name": "Python 3 (ipykernel)",
   "language": "python",
   "name": "python3"
  },
  "language_info": {
   "codemirror_mode": {
    "name": "ipython",
    "version": 3
   },
   "file_extension": ".py",
   "mimetype": "text/x-python",
   "name": "python",
   "nbconvert_exporter": "python",
   "pygments_lexer": "ipython3",
   "version": "3.9.7"
  }
 },
 "nbformat": 4,
 "nbformat_minor": 4
}
