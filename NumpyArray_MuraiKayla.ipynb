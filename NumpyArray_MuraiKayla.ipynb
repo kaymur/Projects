{
 "cells": [
  {
   "cell_type": "markdown",
   "metadata": {},
   "source": [
    "## In-class practice for Lecture 5 \n",
    "\n",
    "* Answer each question using Python codes in a separate cell"
   ]
  },
  {
   "cell_type": "markdown",
   "metadata": {},
   "source": [
    "### 1. Numpy Attributes\n",
    "\n",
    "* import the numpy module and re-name it as **np**\n",
    "* print out the value of **pi** using the **np.pi** attribute.\n",
    "* print out the value of **e** using the **np.e** attribute.\n",
    "* print out the value of **infinity** using the **np.inf** attribute.\n"
   ]
  },
  {
   "cell_type": "code",
   "execution_count": 1,
   "metadata": {},
   "outputs": [
    {
     "name": "stdout",
     "output_type": "stream",
     "text": [
      "3.141592653589793\n",
      "2.718281828459045\n",
      "inf\n"
     ]
    }
   ],
   "source": [
    "import numpy as np # imported the moduled and named it np\n",
    "\n",
    "#print out pi using np.pi, the value of e as np.e, and infinity with np.inf\n",
    "print(np.pi)\n",
    "print(np.e)\n",
    "print(np.inf)"
   ]
  },
  {
   "cell_type": "markdown",
   "metadata": {},
   "source": [
    "### 2. Creating Numpy Arrays\n",
    "\n",
    "* import the numpy module and re-name it as **np**\n",
    "* Create a list of 100 zeros using the **np.zero** function\n",
    "* Create a list of 100 ones using the **np.eye** function\n",
    "* Create a list of 100 random numbers using the **np.random.randon()** function\n",
    "* Create a list of numbers ranging from 1912 to 2012 using the **np.arange()** function\n",
    "* Create the same number list of (1912 to 2012) using the **np.linspace()** function"
   ]
  },
  {
   "cell_type": "code",
   "execution_count": 5,
   "metadata": {},
   "outputs": [
    {
     "name": "stdout",
     "output_type": "stream",
     "text": [
      "[0. 0. 0. 0. 0. 0. 0. 0. 0. 0. 0. 0. 0. 0. 0. 0. 0. 0. 0. 0. 0. 0. 0. 0.\n",
      " 0. 0. 0. 0. 0. 0. 0. 0. 0. 0. 0. 0. 0. 0. 0. 0. 0. 0. 0. 0. 0. 0. 0. 0.\n",
      " 0. 0. 0. 0. 0. 0. 0. 0. 0. 0. 0. 0. 0. 0. 0. 0. 0. 0. 0. 0. 0. 0. 0. 0.\n",
      " 0. 0. 0. 0. 0. 0. 0. 0. 0. 0. 0. 0. 0. 0. 0. 0. 0. 0. 0. 0. 0. 0. 0. 0.\n",
      " 0. 0. 0. 0.]\n",
      "[1. 1. 1. 1. 1. 1. 1. 1. 1. 1. 1. 1. 1. 1. 1. 1. 1. 1. 1. 1. 1. 1. 1. 1.\n",
      " 1. 1. 1. 1. 1. 1. 1. 1. 1. 1. 1. 1. 1. 1. 1. 1. 1. 1. 1. 1. 1. 1. 1. 1.\n",
      " 1. 1. 1. 1. 1. 1. 1. 1. 1. 1. 1. 1. 1. 1. 1. 1. 1. 1. 1. 1. 1. 1. 1. 1.\n",
      " 1. 1. 1. 1. 1. 1. 1. 1. 1. 1. 1. 1. 1. 1. 1. 1. 1. 1. 1. 1. 1. 1. 1. 1.\n",
      " 1. 1. 1. 1.]\n",
      "[0.07221455 0.22634109 0.02269229 0.829604   0.74944781 0.74236138\n",
      " 0.29805236 0.90011875 0.52254062 0.4452008  0.28312046 0.6167998\n",
      " 0.13939837 0.71725065 0.42636396 0.1702287  0.74600316 0.8179404\n",
      " 0.6461836  0.57453694 0.30312741 0.59555695 0.87553761 0.4980553\n",
      " 0.37214983 0.53153396 0.69297937 0.16565131 0.65501736 0.25640537\n",
      " 0.53382952 0.67088952 0.8437104  0.68339372 0.93097255 0.95128878\n",
      " 0.40430535 0.91860476 0.19047838 0.94271626 0.8840545  0.35756608\n",
      " 0.23218408 0.20496113 0.19674443 0.38208867 0.86438197 0.50295225\n",
      " 0.9088976  0.04365928 0.44522057 0.62966077 0.54231779 0.54465314\n",
      " 0.55872649 0.86978675 0.324026   0.61355503 0.19121563 0.08263068\n",
      " 0.45854422 0.97337223 0.6518089  0.90970527 0.63850878 0.72050497\n",
      " 0.81846399 0.8086444  0.76185513 0.587613   0.56376753 0.30130874\n",
      " 0.16801713 0.8469054  0.92113266 0.59874164 0.70113827 0.35901052\n",
      " 0.78971027 0.99146576 0.62890249 0.62318814 0.53969305 0.46064501\n",
      " 0.50061474 0.1556891  0.36843906 0.45108063 0.18472216 0.46825945\n",
      " 0.27051729 0.42004227 0.17230539 0.23294328 0.42952225 0.63274915\n",
      " 0.83355878 0.49439224 0.3592056  0.49610867]\n",
      "[1912 1913 1914 1915 1916 1917 1918 1919 1920 1921 1922 1923 1924 1925\n",
      " 1926 1927 1928 1929 1930 1931 1932 1933 1934 1935 1936 1937 1938 1939\n",
      " 1940 1941 1942 1943 1944 1945 1946 1947 1948 1949 1950 1951 1952 1953\n",
      " 1954 1955 1956 1957 1958 1959 1960 1961 1962 1963 1964 1965 1966 1967\n",
      " 1968 1969 1970 1971 1972 1973 1974 1975 1976 1977 1978 1979 1980 1981\n",
      " 1982 1983 1984 1985 1986 1987 1988 1989 1990 1991 1992 1993 1994 1995\n",
      " 1996 1997 1998 1999 2000 2001 2002 2003 2004 2005 2006 2007 2008 2009\n",
      " 2010 2011]\n",
      "[1912.         1914.04081633 1916.08163265 1918.12244898 1920.16326531\n",
      " 1922.20408163 1924.24489796 1926.28571429 1928.32653061 1930.36734694\n",
      " 1932.40816327 1934.44897959 1936.48979592 1938.53061224 1940.57142857\n",
      " 1942.6122449  1944.65306122 1946.69387755 1948.73469388 1950.7755102\n",
      " 1952.81632653 1954.85714286 1956.89795918 1958.93877551 1960.97959184\n",
      " 1963.02040816 1965.06122449 1967.10204082 1969.14285714 1971.18367347\n",
      " 1973.2244898  1975.26530612 1977.30612245 1979.34693878 1981.3877551\n",
      " 1983.42857143 1985.46938776 1987.51020408 1989.55102041 1991.59183673\n",
      " 1993.63265306 1995.67346939 1997.71428571 1999.75510204 2001.79591837\n",
      " 2003.83673469 2005.87755102 2007.91836735 2009.95918367 2012.        ]\n"
     ]
    }
   ],
   "source": [
    "import numpy as np # imported numpy\n",
    "\n",
    "print(np.zeros(100))\n",
    "print(np.ones(100))\n",
    "print(np.random.random(100))\n",
    "print(np.arange(1912,2012))\n",
    "print(np.linspace(1912,2012))"
   ]
  },
  {
   "cell_type": "markdown",
   "metadata": {},
   "source": [
    "### 3. Math Operations using Numpy Arrays\n",
    "\n",
    "* import the numpy module and re-name it as **np**\n",
    "* create a 1-D numpy array named **x** with 100 points between 0 and pi (e.g., using the **np.linspace()** function, and the **np.pi**)\n",
    "* print the values of **sin(x)** using print(sin(x))\n",
    "* print the values of **sin(x)** using the round function to set the number of decimals, e.g., print(np.round(sin(x),2))\n",
    "* find the maximum value of **sin(x)** use the **np.max()** function\n",
    "* find the minimum value of **cos(x)** use the **np.min()** function. Do the maximum and minimum values equal to +1 and -1? \n",
    "* find the mean value of **cos(x)\\*sin(x)**\n",
    "* calculate the values of **x\\*cos(x)\\*exp(-x)** and assign the values to a new numpy array named **y**\n"
   ]
  },
  {
   "cell_type": "code",
   "execution_count": 36,
   "metadata": {},
   "outputs": [
    {
     "name": "stdout",
     "output_type": "stream",
     "text": [
      "[0.         0.06411414 0.12822827 0.19234241 0.25645654 0.32057068\n",
      " 0.38468481 0.44879895 0.51291309 0.57702722 0.64114136 0.70525549\n",
      " 0.76936963 0.83348377 0.8975979  0.96171204 1.02582617 1.08994031\n",
      " 1.15405444 1.21816858 1.28228272 1.34639685 1.41051099 1.47462512\n",
      " 1.53873926 1.60285339 1.66696753 1.73108167 1.7951958  1.85930994\n",
      " 1.92342407 1.98753821 2.05165235 2.11576648 2.17988062 2.24399475\n",
      " 2.30810889 2.37222302 2.43633716 2.5004513  2.56456543 2.62867957\n",
      " 2.6927937  2.75690784 2.82102197 2.88513611 2.94925025 3.01336438\n",
      " 3.07747852 3.14159265]\n",
      "[0.00000000e+00 6.40702200e-02 1.27877162e-01 1.91158629e-01\n",
      " 2.53654584e-01 3.15108218e-01 3.75267005e-01 4.33883739e-01\n",
      " 4.90717552e-01 5.45534901e-01 5.98110530e-01 6.48228395e-01\n",
      " 6.95682551e-01 7.40277997e-01 7.81831482e-01 8.20172255e-01\n",
      " 8.55142763e-01 8.86599306e-01 9.14412623e-01 9.38468422e-01\n",
      " 9.58667853e-01 9.74927912e-01 9.87181783e-01 9.95379113e-01\n",
      " 9.99486216e-01 9.99486216e-01 9.95379113e-01 9.87181783e-01\n",
      " 9.74927912e-01 9.58667853e-01 9.38468422e-01 9.14412623e-01\n",
      " 8.86599306e-01 8.55142763e-01 8.20172255e-01 7.81831482e-01\n",
      " 7.40277997e-01 6.95682551e-01 6.48228395e-01 5.98110530e-01\n",
      " 5.45534901e-01 4.90717552e-01 4.33883739e-01 3.75267005e-01\n",
      " 3.15108218e-01 2.53654584e-01 1.91158629e-01 1.27877162e-01\n",
      " 6.40702200e-02 1.22464680e-16]\n",
      "[0.   0.06 0.13 0.19 0.25 0.32 0.38 0.43 0.49 0.55 0.6  0.65 0.7  0.74\n",
      " 0.78 0.82 0.86 0.89 0.91 0.94 0.96 0.97 0.99 1.   1.   1.   1.   0.99\n",
      " 0.97 0.96 0.94 0.91 0.89 0.86 0.82 0.78 0.74 0.7  0.65 0.6  0.55 0.49\n",
      " 0.43 0.38 0.32 0.25 0.19 0.13 0.06 0.  ]\n",
      "0.9994862162006879\n",
      "-1.0\n",
      "-4.114628135232441e-18\n",
      "[ 0.          0.06000897  0.11187027  0.15576084  0.19195304  0.22079714\n",
      "  0.24270531  0.25813727  0.2675873   0.27157278  0.27062403  0.26527541\n",
      "  0.25605765  0.24349129  0.22808114  0.21031169  0.19064345  0.16951001\n",
      "  0.14731584  0.12443481  0.10120917  0.07794912  0.05493283  0.03240675\n",
      "  0.0105864  -0.01034267 -0.03022371 -0.04892727 -0.06634972 -0.08241156\n",
      " -0.09705568 -0.11024559 -0.12196358 -0.13220893 -0.14099613 -0.14835311\n",
      " -0.15431958 -0.15894536 -0.16228885 -0.16441556 -0.1653967  -0.16530792\n",
      " -0.16422808 -0.1622382  -0.15942041 -0.15585707 -0.15162995 -0.14681954\n",
      " -0.14150438 -0.13576053]\n"
     ]
    }
   ],
   "source": [
    "import numpy as np # imported numpy\n",
    "import matplotlib.pyplot as plt\n",
    "\n",
    "x = np.linspace(0,np.pi)\n",
    "print(x)\n",
    "\n",
    "print(np.sin(x))\n",
    "print(np.round(np.sin(x),2))\n",
    "print(np.max(np.sin(x)))\n",
    "print(np.min(np.cos(x)))\n",
    "\n",
    "print(np.mean(np.cos(x)*np.sin(x)))\n",
    "\n",
    "y=x*np.cos(x)*np.exp(-x)\n",
    "print(y)\n"
   ]
  },
  {
   "cell_type": "markdown",
   "metadata": {},
   "source": [
    "### 4. Line plots using matploglib.pyplot\n",
    "\n",
    "* import the pyplot module using **import matploglib.pyplot as plt**\n",
    "* try **plt.plot(x)**, what do you get?\n",
    "* now try **plt.plot(y)**, what do you get now?\n",
    "* then try **plt.plot(x,y)**, what's the difference then? \n",
    "* plot **tan(x)** use the plot() function. Does it make sense? why or why not?"
   ]
  },
  {
   "cell_type": "code",
   "execution_count": 40,
   "metadata": {},
   "outputs": [
    {
     "data": {
      "text/plain": [
       "[<matplotlib.lines.Line2D at 0x24c57ab87c0>]"
      ]
     },
     "execution_count": 40,
     "metadata": {},
     "output_type": "execute_result"
    },
    {
     "data": {
      "image/png": "[encoded data removed]",
      "text/plain": [
       "<Figure size 432x288 with 1 Axes>"
      ]
     },
     "metadata": {
      "needs_background": "light"
     },
     "output_type": "display_data"
    }
   ],
   "source": [
    "import numpy as np # imported numpy\n",
    "import matplotlib.pyplot as plt\n",
    "\n",
    "plt.plot(x)\n",
    "plt.plot(y)\n",
    "plt.plot(x,y)\n",
    "\n",
    "plt.plot(np.tan(x))\n",
    "#no it doesn't make sense mathematically, but for the sake of learning\n",
    "#i shall keep it like that since the code tried to connect all discrete \n",
    "#data points together for a continuous line "
   ]
  },
  {
   "cell_type": "code",
   "execution_count": null,
   "metadata": {},
   "outputs": [],
   "source": []
  }
 ],
 "metadata": {
  "kernelspec": {
   "display_name": "Python 3",
   "language": "python",
   "name": "python3"
  },
  "language_info": {
   "codemirror_mode": {
    "name": "ipython",
    "version": 3
   },
   "file_extension": ".py",
   "mimetype": "text/x-python",
   "name": "python",
   "nbconvert_exporter": "python",
   "pygments_lexer": "ipython3",
   "version": "3.8.5"
  }
 },
 "nbformat": 4,
 "nbformat_minor": 2
}
